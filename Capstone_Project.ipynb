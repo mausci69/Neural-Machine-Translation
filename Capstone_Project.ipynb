{
  "nbformat": 4,
  "nbformat_minor": 0,
  "metadata": {
    "kernelspec": {
      "display_name": "Python 3",
      "language": "python",
      "name": "python3"
    },
    "language_info": {
      "codemirror_mode": {
        "name": "ipython",
        "version": 3
      },
      "file_extension": ".py",
      "mimetype": "text/x-python",
      "name": "python",
      "nbconvert_exporter": "python",
      "pygments_lexer": "ipython3",
      "version": "3.7.6"
    },
    "colab": {
      "name": "Capstone Project.ipynb",
      "provenance": [],
      "include_colab_link": true
    },
    "accelerator": "GPU"
  },
  "cells": [
    {
      "cell_type": "markdown",
      "metadata": {
        "id": "view-in-github",
        "colab_type": "text"
      },
      "source": [
        "<a href=\"https://colab.research.google.com/github/mausci69/Neural-Machine-Translation/blob/main/Capstone_Project.ipynb\" target=\"_parent\"><img src=\"https://colab.research.google.com/assets/colab-badge.svg\" alt=\"Open In Colab\"/></a>"
      ]
    },
    {
      "cell_type": "markdown",
      "metadata": {
        "id": "5y0HuU2_DYfb"
      },
      "source": [
        "# Capstone Project\n",
        "## Neural translation model\n",
        "### Instructions\n",
        "\n",
        "In this notebook, you will create a neural network that translates from English to German. You will use concepts from throughout this course, including building more flexible model architectures, freezing layers, data processing pipeline and sequence modelling.\n",
        "\n",
        "This project is peer-assessed. Within this notebook you will find instructions in each section for how to complete the project. Pay close attention to the instructions as the peer review will be carried out according to a grading rubric that checks key parts of the project instructions. Feel free to add extra cells into the notebook as required.\n",
        "\n",
        "### How to submit\n",
        "\n",
        "When you have completed the Capstone project notebook, you will submit a pdf of the notebook for peer review. First ensure that the notebook has been fully executed from beginning to end, and all of the cell outputs are visible. This is important, as the grading rubric depends on the reviewer being able to view the outputs of your notebook. Save the notebook as a pdf (File -> Download as -> PDF via LaTeX). You should then submit this pdf for review.\n",
        "\n",
        "### Let's get started!\n",
        "\n",
        "We'll start by running some imports, and loading the dataset. For this project you are free to make further imports throughout the notebook as you wish. "
      ]
    },
    {
      "cell_type": "code",
      "metadata": {
        "id": "KhsNxskEDYfe"
      },
      "source": [
        "from IPython.display import Image\n",
        "import matplotlib.pyplot as plt\n",
        "\n",
        "import tensorflow as tf\n",
        "import tensorflow_hub as hub\n",
        "import unicodedata\n",
        "import re\n",
        "import numpy as np\n",
        "\n",
        "from sklearn.model_selection import train_test_split\n",
        "\n",
        "from tensorflow.keras import Input\n",
        "from tensorflow.keras.preprocessing.text import Tokenizer\n",
        "from tensorflow.keras.layers import Input, Layer, Embedding, Dense, Flatten\n",
        "from tensorflow.keras.layers import Conv2D, MaxPooling2D, LSTM, Masking, concatenate\n",
        "from tensorflow.keras.models import Model\n",
        "from tensorflow.keras.metrics import Mean\n",
        "from tensorflow.keras.optimizers import Adam\n",
        "from tensorflow.keras.losses import SparseCategoricalCrossentropy\n",
        "from tensorflow.keras.preprocessing.sequence import pad_sequences"
      ],
      "execution_count": 5,
      "outputs": []
    },
    {
      "cell_type": "code",
      "metadata": {
        "colab": {
          "base_uri": "https://localhost:8080/"
        },
        "id": "xUgi0qOPLied",
        "outputId": "6df55338-9ff8-43c6-c0db-0a7b1c960fc4"
      },
      "source": [
        "from google.colab import drive\n",
        "drive.mount('/content/drive')"
      ],
      "execution_count": 1,
      "outputs": [
        {
          "output_type": "stream",
          "text": [
            "Mounted at /content/drive\n"
          ],
          "name": "stdout"
        }
      ]
    },
    {
      "cell_type": "markdown",
      "metadata": {
        "id": "9pdfYraQDYfe"
      },
      "source": [
        "For the capstone project, you will use a language dataset from http://www.manythings.org/anki/ to build a neural translation model. This dataset consists of over 200,000 pairs of sentences in English and German. In order to make the training quicker, we will restrict to our dataset to 20,000 pairs. Feel free to change this if you wish - the size of the dataset used is not part of the grading rubric.\n",
        "\n",
        "Your goal is to develop a neural translation model from English to German, making use of a pre-trained English word embedding module."
      ]
    },
    {
      "cell_type": "code",
      "metadata": {
        "id": "4LmFhlj6DYff"
      },
      "source": [
        "# Run this cell to load the dataset\n",
        "\n",
        "NUM_EXAMPLES = 20000\n",
        "data_examples = []\n",
        "with open('data/deu.txt', 'r', encoding='utf8') as f:\n",
        "    for line in f.readlines():\n",
        "        if len(data_examples) < NUM_EXAMPLES:\n",
        "            data_examples.append(line)\n",
        "        else:\n",
        "            break"
      ],
      "execution_count": 6,
      "outputs": []
    },
    {
      "cell_type": "code",
      "metadata": {
        "id": "x1-h13Z-DYff"
      },
      "source": [
        "# These functions preprocess English and German sentences\n",
        "\n",
        "def unicode_to_ascii(s):\n",
        "    return ''.join(c for c in unicodedata.normalize('NFD', s) if unicodedata.category(c) != 'Mn')\n",
        "\n",
        "def preprocess_sentence(sentence):\n",
        "    sentence = sentence.lower().strip()\n",
        "    sentence = re.sub(r\"ü\", 'ue', sentence)\n",
        "    sentence = re.sub(r\"ä\", 'ae', sentence)\n",
        "    sentence = re.sub(r\"ö\", 'oe', sentence)\n",
        "    sentence = re.sub(r'ß', 'ss', sentence)\n",
        "    \n",
        "    sentence = unicode_to_ascii(sentence)\n",
        "    sentence = re.sub(r\"([?.!,])\", r\" \\1 \", sentence)\n",
        "    sentence = re.sub(r\"[^a-z?.!,']+\", \" \", sentence)\n",
        "    sentence = re.sub(r'[\" \"]+', \" \", sentence)\n",
        "    \n",
        "    return sentence.strip()"
      ],
      "execution_count": 8,
      "outputs": []
    },
    {
      "cell_type": "markdown",
      "metadata": {
        "id": "cTmMU0YVDYfg"
      },
      "source": [
        "#### The custom translation model\n",
        "The following is a schematic of the custom translation model architecture you will develop in this project.\n",
        "\n",
        "The custom model consists of an encoder RNN and a decoder RNN. The encoder takes words of an English sentence as input, and uses a pre-trained word embedding to embed the words into a 128-dimensional space. To indicate the end of the input sentence, a special end token (in the same 128-dimensional space) is passed in as an input. This token is a TensorFlow Variable that is learned in the training phase (unlike the pre-trained word embedding, which is frozen).\n",
        "\n",
        "The decoder RNN takes the internal state of the encoder network as its initial state. A start token is passed in as the first input, which is embedded using a learned German word embedding. The decoder RNN then makes a prediction for the next German word, which during inference is then passed in as the following input, and this process is repeated until the special `<end>` token is emitted from the decoder."
      ]
    },
    {
      "cell_type": "markdown",
      "metadata": {
        "id": "OPRlyP0RDYfg"
      },
      "source": [
        "## 1. Text preprocessing\n",
        "* Create separate lists of English and German sentences, and preprocess them using the `preprocess_sentence` function provided for you above.\n",
        "* Add a special `\"<start>\"` and `\"<end>\"` token to the beginning and end of every German sentence.\n",
        "* Use the Tokenizer class from the `tf.keras.preprocessing.text` module to tokenize the German sentences, ensuring that no character filters are applied. _Hint: use the Tokenizer's \"filter\" keyword argument._\n",
        "* Print out at least 5 randomly chosen examples of (preprocessed) English and German sentence pairs. For the German sentence, print out the text (with start and end tokens) as well as the tokenized sequence.\n",
        "* Pad the end of the tokenized German sequences with zeros, and batch the complete set of sequences into one numpy array."
      ]
    },
    {
      "cell_type": "code",
      "metadata": {
        "id": "rtndiHDqDYfh"
      },
      "source": [
        "# Create separate lists of English and German sentences\n",
        "# preprocess them using the preprocess_sentence function provided for you above\n",
        "# Add a special \"<start>\" and \"<end>\" token to the beginning and end of every German sentence\n",
        "english_sentences = []\n",
        "german_sentences = []\n",
        "for i in range(NUM_EXAMPLES):\n",
        "    english_sentences.append(preprocess_sentence(re.split('\\t', data_examples[i])[0]))\n",
        "    german_sentences.append('<start> ' + preprocess_sentence(re.split('\\t', data_examples[i])[1]) + ' <end>')"
      ],
      "execution_count": 9,
      "outputs": []
    },
    {
      "cell_type": "code",
      "metadata": {
        "id": "4_YfqwDxDYfh",
        "colab": {
          "base_uri": "https://localhost:8080/"
        },
        "outputId": "1a585668-d783-402a-af5b-ead50ca1b8eb"
      },
      "source": [
        "# Use the Tokenizer class from the tf.keras.preprocessing.text module to tokenize the German sentences, ensuring \n",
        "# that no character filters are applied. \n",
        "tokenizer = Tokenizer(filters='')\n",
        "german_sentences_tokens = []\n",
        "for sentence in german_sentences:\n",
        "  german_sentences_tokens.append(sentence.split())\n",
        "tokenizer.fit_on_texts(german_sentences_tokens)\n",
        "german_sentences_tokens = tokenizer.texts_to_sequences(german_sentences_tokens)\n",
        "\n",
        "german_vocab_size = len(tokenizer.word_index)\n",
        "print(german_vocab_size)"
      ],
      "execution_count": 10,
      "outputs": [
        {
          "output_type": "stream",
          "text": [
            "5743\n"
          ],
          "name": "stdout"
        }
      ]
    },
    {
      "cell_type": "code",
      "metadata": {
        "id": "Eh4i3UwxDYfi",
        "colab": {
          "base_uri": "https://localhost:8080/"
        },
        "outputId": "005f1075-a5af-4104-f59a-599680dba45e"
      },
      "source": [
        "# Print out at least 5 randomly chosen examples of (preprocessed) English and German sentence pairs. \n",
        "# For the German sentence, print out the text (with start and end tokens) as well as the tokenized sequence.\n",
        "num_examples = 5\n",
        "random_indexes = list(np.random.choice(NUM_EXAMPLES, num_examples, replace=False))\n",
        "for i, ix in enumerate(random_indexes):\n",
        "    print('Sentence nr. ', i)\n",
        "    print('English: ', english_sentences[ix])\n",
        "    print('German: ', german_sentences[ix]) \n",
        "    print('Tokenized German: ', german_sentences_tokens[ix])\n",
        "    if i < 4: print('----')"
      ],
      "execution_count": 11,
      "outputs": [
        {
          "output_type": "stream",
          "text": [
            "Sentence nr.  0\n",
            "English:  that's for sure .\n",
            "German:  <start> das ist sicher so . <end>\n",
            "Tokenized German:  [1, 11, 6, 138, 70, 3, 2]\n",
            "----\n",
            "Sentence nr.  1\n",
            "English:  i feel your pain .\n",
            "German:  <start> ich fuehle deinen schmerz . <end>\n",
            "Tokenized German:  [1, 4, 213, 334, 3030, 3, 2]\n",
            "----\n",
            "Sentence nr.  2\n",
            "English:  who's standing ?\n",
            "German:  <start> wer steht ? <end>\n",
            "Tokenized German:  [1, 43, 287, 7, 2]\n",
            "----\n",
            "Sentence nr.  3\n",
            "English:  you have cancer .\n",
            "German:  <start> ihr habt krebs . <end>\n",
            "Tokenized German:  [1, 27, 140, 937, 3, 2]\n",
            "----\n",
            "Sentence nr.  4\n",
            "English:  it's a joke .\n",
            "German:  <start> das ist ein witz . <end>\n",
            "Tokenized German:  [1, 11, 6, 19, 469, 3, 2]\n"
          ],
          "name": "stdout"
        }
      ]
    },
    {
      "cell_type": "code",
      "metadata": {
        "id": "6GuFpxvYDYfj"
      },
      "source": [
        "# Pad the end of the tokenized German sequences with zeros, \n",
        "# and batch the complete set of sequences into one numpy array\n",
        "german_sentences_tokens = pad_sequences(german_sentences_tokens,\n",
        "                                        padding='post',\n",
        "                                        value=0)"
      ],
      "execution_count": 12,
      "outputs": []
    },
    {
      "cell_type": "markdown",
      "metadata": {
        "id": "rZP1iO11DYfj"
      },
      "source": [
        "## 2. Prepare the data with tf.data.Dataset objects"
      ]
    },
    {
      "cell_type": "markdown",
      "metadata": {
        "id": "Og0lLu0MDYfj"
      },
      "source": [
        "#### Load the embedding layer\n",
        "As part of the dataset preprocessing for this project, you will use a pre-trained English word embedding module from TensorFlow Hub. The URL for the module is https://tfhub.dev/google/tf2-preview/nnlm-en-dim128-with-normalization/1. This module has also been made available as a complete saved model in the folder `'./models/tf2-preview_nnlm-en-dim128_1'`. \n",
        "\n",
        "This embedding takes a batch of text tokens in a 1-D tensor of strings as input. It then embeds the separate tokens into a 128-dimensional space. \n",
        "\n",
        "The code to load and test the embedding layer is provided for you below.\n",
        "\n",
        "**NB:** this model can also be used as a sentence embedding module. The module will process each token by removing punctuation and splitting on spaces. It then averages the word embeddings over a sentence to give a single embedding vector. However, we will use it only as a word embedding module, and will pass each word in the input sentence as a separate token."
      ]
    },
    {
      "cell_type": "code",
      "metadata": {
        "id": "ZRprqaHDDYfk"
      },
      "source": [
        " # Load embedding module from Tensorflow Hub\n",
        "    \n",
        "embedding_layer = hub.KerasLayer(\"https://tfhub.dev/google/tf2-preview/nnlm-en-dim128/1\",\n",
        "                                 output_shape=[128], input_shape=[], dtype=tf.string)"
      ],
      "execution_count": 13,
      "outputs": []
    },
    {
      "cell_type": "code",
      "metadata": {
        "id": "LukAA29DDYfk",
        "colab": {
          "base_uri": "https://localhost:8080/"
        },
        "outputId": "c60746b1-757a-43ad-9861-806628c71992"
      },
      "source": [
        "# Test the layer\n",
        "\n",
        "embedding_layer(tf.constant([\"these\", \"aren't\", \"the\", \"droids\", \"you're\", \"looking\", \"for\"])).shape"
      ],
      "execution_count": 14,
      "outputs": [
        {
          "output_type": "execute_result",
          "data": {
            "text/plain": [
              "TensorShape([7, 128])"
            ]
          },
          "metadata": {
            "tags": []
          },
          "execution_count": 14
        }
      ]
    },
    {
      "cell_type": "markdown",
      "metadata": {
        "id": "X5AcF9ZfDYfk"
      },
      "source": [
        "You should now prepare the training and validation Datasets.\n",
        "\n",
        "* Create a random training and validation set split of the data, reserving e.g. 20% of the data for validation (NB: each English dataset example is a single sentence string, and each German dataset example is a sequence of padded integer tokens).\n",
        "* Load the training and validation sets into a tf.data.Dataset object, passing in a tuple of English and German data for both training and validation sets.\n",
        "* Create a function to map over the datasets that splits each English sentence at spaces. Apply this function to both Dataset objects using the map method. _Hint: look at the tf.strings.split function._\n",
        "* Create a function to map over the datasets that embeds each sequence of English words using the loaded embedding layer/model. Apply this function to both Dataset objects using the map method.\n",
        "* Create a function to filter out dataset examples where the English sentence is more than 13 (embedded) tokens in length. Apply this function to both Dataset objects using the filter method.\n",
        "* Create a function to map over the datasets that pads each English sequence of embeddings with some distinct padding value before the sequence, so that each sequence is length 13. Apply this function to both Dataset objects using the map method. _Hint: look at the tf.pad function. You can extract a Tensor shape using tf.shape; you might also find the tf.math.maximum function useful._\n",
        "* Batch both training and validation Datasets with a batch size of 16.\n",
        "* Print the `element_spec` property for the training and validation Datasets. \n",
        "* Using the Dataset `.take(1)` method, print the shape of the English data example from the training Dataset.\n",
        "* Using the Dataset `.take(1)` method, print the German data example Tensor from the validation Dataset."
      ]
    },
    {
      "cell_type": "code",
      "metadata": {
        "id": "jIDJ1USwDYfl"
      },
      "source": [
        "# Create a random training and validation set split of the data, reserving e.g. 20% of the data for validation \n",
        "\n",
        "x_train_eng, x_test_eng, y_train_ger, y_test_ger = train_test_split(english_sentences, \n",
        "                                                                    german_sentences_tokens,\n",
        "                                                                    test_size=0.2, \n",
        "                                                                    random_state=49)"
      ],
      "execution_count": 15,
      "outputs": []
    },
    {
      "cell_type": "code",
      "metadata": {
        "id": "rIEEZ8aVDYfl"
      },
      "source": [
        "# Load the training and validation sets into a tf.data.Dataset object, passing in a tuple of English and \n",
        "# German data for both training and validation sets\n",
        "\n",
        "train_dataset = tf.data.Dataset.from_tensor_slices((x_train_eng, y_train_ger))\n",
        "test_dataset = tf.data.Dataset.from_tensor_slices((x_test_eng, y_test_ger))"
      ],
      "execution_count": 16,
      "outputs": []
    },
    {
      "cell_type": "code",
      "metadata": {
        "id": "O_7tHjjcDYfm"
      },
      "source": [
        "# Create a function to map over the datasets that splits each English sentence at spaces. \n",
        "# Apply this function to both Dataset objects using the map method.\n",
        "\n",
        "def map_split(e, d):\n",
        "    return tf.strings.split(e, sep=' '), d\n",
        " \n",
        "train_dataset = train_dataset.map(map_split)\n",
        "test_dataset = test_dataset.map(map_split)"
      ],
      "execution_count": 17,
      "outputs": []
    },
    {
      "cell_type": "code",
      "metadata": {
        "id": "eh51PkOSDYfm"
      },
      "source": [
        "# Create a function to map over the datasets that embeds each sequence of English words using the loaded embedding \n",
        "# layer/model. Apply this function to both Dataset objects using the map method\n",
        "\n",
        "def map_embed(e, d):\n",
        "    return embedding_layer(e), d\n",
        "\n",
        "train_dataset = train_dataset.map(map_embed)\n",
        "test_dataset = test_dataset.map(map_embed)"
      ],
      "execution_count": 18,
      "outputs": []
    },
    {
      "cell_type": "code",
      "metadata": {
        "id": "EAErSPn0DYfm"
      },
      "source": [
        "# Create a function to filter out dataset examples where the English sentence is more than 13 (embedded) \n",
        "# tokens in length. Apply this function to both Dataset objects using the filter method\n",
        "\n",
        "def filter_sentences(e, d):\n",
        "    return tf.shape(e).shape[0] <= 13\n",
        "\n",
        "train_dataset = train_dataset.filter(filter_sentences)\n",
        "test_dataset = test_dataset.filter(filter_sentences)"
      ],
      "execution_count": 19,
      "outputs": []
    },
    {
      "cell_type": "code",
      "metadata": {
        "id": "rVCb8zTrDYfm"
      },
      "source": [
        "# Create a function to map over the datasets that pads each English sequence of embeddings with some distinct \n",
        "# padding value before the sequence, so that each sequence is length 13. \n",
        "# Apply this function to both Dataset objects using the map method. Hint: look at the tf.pad function. \n",
        "# You can extract a Tensor shape using tf.shape; you might also find the tf.math.maximum function useful\n",
        "\n",
        "def map_pad(e, d):\n",
        "    result = tf.pad(e,\n",
        "                    paddings=[[13-tf.shape(e)[0],0], [0,0]], \n",
        "                    mode='CONSTANT', \n",
        "                    constant_values=0.)\n",
        "\n",
        "    return result, d\n",
        "                 \n",
        "train_dataset = train_dataset.map(map_pad)\n",
        "test_dataset = test_dataset.map(map_pad)"
      ],
      "execution_count": 20,
      "outputs": []
    },
    {
      "cell_type": "code",
      "metadata": {
        "id": "8hanlPlwDYfn"
      },
      "source": [
        "# batching\n",
        "train_dataset = train_dataset.batch(16, drop_remainder=True)\n",
        "test_dataset = test_dataset.batch(16, drop_remainder=True)"
      ],
      "execution_count": 21,
      "outputs": []
    },
    {
      "cell_type": "code",
      "metadata": {
        "id": "JGeSYNp1DYfn",
        "colab": {
          "base_uri": "https://localhost:8080/"
        },
        "outputId": "4913f0f1-0aa5-4d79-c379-9b7b9ba6ed6d"
      },
      "source": [
        "print(train_dataset.element_spec)\n",
        "print(test_dataset.element_spec)"
      ],
      "execution_count": 22,
      "outputs": [
        {
          "output_type": "stream",
          "text": [
            "(TensorSpec(shape=(16, None, 128), dtype=tf.float32, name=None), TensorSpec(shape=(16, 14), dtype=tf.int32, name=None))\n",
            "(TensorSpec(shape=(16, None, 128), dtype=tf.float32, name=None), TensorSpec(shape=(16, 14), dtype=tf.int32, name=None))\n"
          ],
          "name": "stdout"
        }
      ]
    },
    {
      "cell_type": "code",
      "metadata": {
        "id": "XJVJhWwHDYfo",
        "colab": {
          "base_uri": "https://localhost:8080/"
        },
        "outputId": "421f039c-37de-4644-c8e4-58ae0d19a388"
      },
      "source": [
        "print(next(iter(train_dataset.take(1)))[0].shape)\n",
        "print(next(iter(test_dataset.take(1)))[1].shape)"
      ],
      "execution_count": 23,
      "outputs": [
        {
          "output_type": "stream",
          "text": [
            "(16, 13, 128)\n",
            "(16, 14)\n"
          ],
          "name": "stdout"
        }
      ]
    },
    {
      "cell_type": "markdown",
      "metadata": {
        "id": "yZLXk1WUDYfo"
      },
      "source": [
        "## 3. Create the custom layer\n",
        "You will now create a custom layer to add the learned end token embedding to the encoder model."
      ]
    },
    {
      "cell_type": "markdown",
      "metadata": {
        "id": "T8C0LjOIDYfo"
      },
      "source": [
        "You should now build the custom layer.\n",
        "* Using layer subclassing, create a custom layer that takes a batch of English data examples from one of the Datasets, and adds a learned embedded ‘end’ token to the end of each sequence. \n",
        "* This layer should create a TensorFlow Variable (that will be learned during training) that is 128-dimensional (the size of the embedding space). _Hint: you may find it helpful in the call method to use the tf.tile function to replicate the end token embedding across every element in the batch._\n",
        "* Using the Dataset `.take(1)` method, extract a batch of English data examples from the training Dataset and print the shape. Test the custom layer by calling the layer on the English data batch Tensor and print the resulting Tensor shape (the layer should increase the sequence length by one)."
      ]
    },
    {
      "cell_type": "code",
      "metadata": {
        "id": "MO2aeUBrDYfo"
      },
      "source": [
        "from tensorflow.keras.layers import Layer \n",
        "\n",
        "class end_token_embedding_layer(Layer):\n",
        "    \n",
        "    def __init__(self, embedding_layer): \n",
        "        super(end_token_embedding_layer, self).__init__() \n",
        "        self.embedding_layer = embedding_layer\n",
        "    \n",
        "    def call(self, inputs):\n",
        "        end_emb = self.embedding_layer(tf.constant(['<end>'])) \n",
        "        end_emb_batch = tf.tile([end_emb], tf.convert_to_tensor([tf.shape(inputs)[0], 1, 1]))\n",
        "        return tf.concat([inputs, end_emb_batch], axis = 1)"
      ],
      "execution_count": 24,
      "outputs": []
    },
    {
      "cell_type": "code",
      "metadata": {
        "id": "SNF0fu1XDYfp"
      },
      "source": [
        "class Add_End_Token(Layer):\n",
        "\n",
        "  def __init__(self, embedding_space_dim=128, **kwargs):\n",
        "    super(Add_End_Token, self).__init__(**kwargs)\n",
        "    self.end_token_embedding = tf.Variable(initial_value=tf.random.uniform(shape=(embedding_space_dim,)), \n",
        "                                           trainable=True)\n",
        "\n",
        "  def call(self, inputs):\n",
        "    end_token = tf.tile(tf.reshape(self.end_token_embedding, \n",
        "                                   shape=(1, 1, self.end_token_embedding.shape[0])), \n",
        "                        [tf.shape(inputs)[0],1,1])\n",
        "    \n",
        "    return tf.keras.layers.concatenate([inputs, end_token], axis=1)"
      ],
      "execution_count": 25,
      "outputs": []
    },
    {
      "cell_type": "code",
      "metadata": {
        "id": "PnH3csRQDYfp"
      },
      "source": [
        "end_token_layer = Add_End_Token()"
      ],
      "execution_count": 26,
      "outputs": []
    },
    {
      "cell_type": "code",
      "metadata": {
        "id": "hUFSvYSgDYfp",
        "colab": {
          "base_uri": "https://localhost:8080/"
        },
        "outputId": "89c51061-4543-44b4-f2e1-12338c4123be"
      },
      "source": [
        "print(next(iter(train_dataset.take(1)))[0].shape)\n",
        "end_token_layer(next(iter(train_dataset.take(1)))[0])\n",
        "# (16, 13, 128)\n",
        "# shape=(16, 14, 128)"
      ],
      "execution_count": 27,
      "outputs": [
        {
          "output_type": "stream",
          "text": [
            "(16, 13, 128)\n"
          ],
          "name": "stdout"
        },
        {
          "output_type": "execute_result",
          "data": {
            "text/plain": [
              "<tf.Tensor: shape=(16, 14, 128), dtype=float32, numpy=\n",
              "array([[[ 0.        ,  0.        ,  0.        , ...,  0.        ,\n",
              "          0.        ,  0.        ],\n",
              "        [ 0.        ,  0.        ,  0.        , ...,  0.        ,\n",
              "          0.        ,  0.        ],\n",
              "        [ 0.        ,  0.        ,  0.        , ...,  0.        ,\n",
              "          0.        ,  0.        ],\n",
              "        ...,\n",
              "        [ 0.186044  ,  0.01269344,  0.10458169, ..., -0.13433003,\n",
              "         -0.07831374,  0.07526243],\n",
              "        [ 0.012986  ,  0.08981702,  0.16017003, ...,  0.06796802,\n",
              "          0.13528903, -0.022035  ],\n",
              "        [ 0.5115659 ,  0.8343549 ,  0.38768685, ...,  0.15186644,\n",
              "          0.5269333 ,  0.6902102 ]],\n",
              "\n",
              "       [[ 0.        ,  0.        ,  0.        , ...,  0.        ,\n",
              "          0.        ,  0.        ],\n",
              "        [ 0.        ,  0.        ,  0.        , ...,  0.        ,\n",
              "          0.        ,  0.        ],\n",
              "        [ 0.        ,  0.        ,  0.        , ...,  0.        ,\n",
              "          0.        ,  0.        ],\n",
              "        ...,\n",
              "        [-0.01965261, -0.08534974, -0.11964844, ..., -0.2286554 ,\n",
              "         -0.03705044,  0.08085621],\n",
              "        [ 0.012986  ,  0.08981702,  0.16017003, ...,  0.06796802,\n",
              "          0.13528903, -0.022035  ],\n",
              "        [ 0.5115659 ,  0.8343549 ,  0.38768685, ...,  0.15186644,\n",
              "          0.5269333 ,  0.6902102 ]],\n",
              "\n",
              "       [[ 0.        ,  0.        ,  0.        , ...,  0.        ,\n",
              "          0.        ,  0.        ],\n",
              "        [ 0.        ,  0.        ,  0.        , ...,  0.        ,\n",
              "          0.        ,  0.        ],\n",
              "        [ 0.        ,  0.        ,  0.        , ...,  0.        ,\n",
              "          0.        ,  0.        ],\n",
              "        ...,\n",
              "        [ 0.13561419, -0.0232221 ,  0.02525377, ..., -0.04732168,\n",
              "          0.07478907, -0.16368614],\n",
              "        [ 0.012986  ,  0.08981702,  0.16017003, ...,  0.06796802,\n",
              "          0.13528903, -0.022035  ],\n",
              "        [ 0.5115659 ,  0.8343549 ,  0.38768685, ...,  0.15186644,\n",
              "          0.5269333 ,  0.6902102 ]],\n",
              "\n",
              "       ...,\n",
              "\n",
              "       [[ 0.        ,  0.        ,  0.        , ...,  0.        ,\n",
              "          0.        ,  0.        ],\n",
              "        [ 0.        ,  0.        ,  0.        , ...,  0.        ,\n",
              "          0.        ,  0.        ],\n",
              "        [ 0.        ,  0.        ,  0.        , ...,  0.        ,\n",
              "          0.        ,  0.        ],\n",
              "        ...,\n",
              "        [ 0.04589178,  0.06568739, -0.02674814, ..., -0.11417556,\n",
              "          0.06926807,  0.1075872 ],\n",
              "        [-0.01335301,  0.11507112,  0.12568313, ...,  0.08157409,\n",
              "          0.13599715, -0.03076603],\n",
              "        [ 0.5115659 ,  0.8343549 ,  0.38768685, ...,  0.15186644,\n",
              "          0.5269333 ,  0.6902102 ]],\n",
              "\n",
              "       [[ 0.        ,  0.        ,  0.        , ...,  0.        ,\n",
              "          0.        ,  0.        ],\n",
              "        [ 0.        ,  0.        ,  0.        , ...,  0.        ,\n",
              "          0.        ,  0.        ],\n",
              "        [ 0.        ,  0.        ,  0.        , ...,  0.        ,\n",
              "          0.        ,  0.        ],\n",
              "        ...,\n",
              "        [ 0.273652  , -0.01468725, -0.10180678, ...,  0.04638162,\n",
              "         -0.09324723,  0.12029584],\n",
              "        [-0.01335301,  0.11507112,  0.12568313, ...,  0.08157409,\n",
              "          0.13599715, -0.03076603],\n",
              "        [ 0.5115659 ,  0.8343549 ,  0.38768685, ...,  0.15186644,\n",
              "          0.5269333 ,  0.6902102 ]],\n",
              "\n",
              "       [[ 0.        ,  0.        ,  0.        , ...,  0.        ,\n",
              "          0.        ,  0.        ],\n",
              "        [ 0.        ,  0.        ,  0.        , ...,  0.        ,\n",
              "          0.        ,  0.        ],\n",
              "        [ 0.        ,  0.        ,  0.        , ...,  0.        ,\n",
              "          0.        ,  0.        ],\n",
              "        ...,\n",
              "        [-0.04383178,  0.10811177,  0.01466393, ..., -0.0562687 ,\n",
              "          0.07324222, -0.03010718],\n",
              "        [ 0.012986  ,  0.08981702,  0.16017003, ...,  0.06796802,\n",
              "          0.13528903, -0.022035  ],\n",
              "        [ 0.5115659 ,  0.8343549 ,  0.38768685, ...,  0.15186644,\n",
              "          0.5269333 ,  0.6902102 ]]], dtype=float32)>"
            ]
          },
          "metadata": {
            "tags": []
          },
          "execution_count": 27
        }
      ]
    },
    {
      "cell_type": "markdown",
      "metadata": {
        "id": "VX2aRtQADYfp"
      },
      "source": [
        "## 4. Build the encoder network\n",
        "\n",
        "You should now build the RNN encoder model.\n",
        "* Using the functional API, build the encoder network according to the following spec:\n",
        "    * The model will take a batch of sequences of embedded English words as input, as given by the Dataset objects.\n",
        "    * The next layer in the encoder will be the custom layer you created previously, to add a learned end token embedding to the end of the English sequence.\n",
        "    * This is followed by a Masking layer, with the `mask_value` set to the distinct padding value you used when you padded the English sequences with the Dataset preprocessing above.\n",
        "    * The final layer is an LSTM layer with 512 units, which also returns the hidden and cell states.\n",
        "    * The encoder is a multi-output model. There should be two output Tensors of this model: the hidden state and cell states of the LSTM layer. The output of the LSTM layer is unused.\n",
        "* Using the Dataset `.take(1)` method, extract a batch of English data examples from the training Dataset and test the encoder model by calling it on the English data Tensor, and print the shape of the resulting Tensor outputs.\n",
        "* Print the model summary for the encoder network."
      ]
    },
    {
      "cell_type": "code",
      "metadata": {
        "id": "haCHVJvNOefn"
      },
      "source": [
        "def Encoder_Model():\n",
        "  inputs = Input(batch_shape=(None, 13, 128))\n",
        "  x = end_token_layer(inputs)\n",
        "  x = Masking(mask_value=0.0, name='masking')(x) \n",
        "  x, hidden, cell = LSTM(units=512,\n",
        "                         return_state=True,\n",
        "                         return_sequences=True)(x)\n",
        "  encoder_model = Model(inputs = inputs, outputs= [hidden, cell])\n",
        "  return encoder_model \n",
        "  \n",
        "encoder_model = Encoder_Model()"
      ],
      "execution_count": 28,
      "outputs": []
    },
    {
      "cell_type": "code",
      "metadata": {
        "id": "IbSLxf7mDYfq",
        "colab": {
          "base_uri": "https://localhost:8080/"
        },
        "outputId": "acb07c88-84cd-46c0-d1be-0145434c5b6d"
      },
      "source": [
        "# Using the Dataset .take(1) method, extract a batch of English data examples from the training Dataset\n",
        "# and test the encoder model by calling it on the English data Tensor\n",
        "\n",
        "english_batch, _ = next(iter(train_dataset.take(1)))\n",
        "output = encoder_model(english_batch)\n",
        "output\n",
        "\n",
        "# shape=(16, 512)"
      ],
      "execution_count": 29,
      "outputs": [
        {
          "output_type": "execute_result",
          "data": {
            "text/plain": [
              "[<tf.Tensor: shape=(16, 512), dtype=float32, numpy=\n",
              " array([[-1.15870371e-01,  1.19847782e-01,  5.48773967e-02, ...,\n",
              "          2.98790019e-05, -2.66694725e-02, -3.88031080e-02],\n",
              "        [-1.11701943e-01,  1.08831547e-01,  6.54661059e-02, ...,\n",
              "         -2.56730174e-03, -1.28743509e-02, -4.30591777e-02],\n",
              "        [-1.18037134e-01,  1.09256782e-01,  6.07412681e-02, ...,\n",
              "          9.16343764e-04, -1.07005928e-02, -3.14496942e-02],\n",
              "        ...,\n",
              "        [-1.02143057e-01,  1.00309774e-01,  6.49965629e-02, ...,\n",
              "         -3.39743495e-03, -1.11816842e-02, -4.07845750e-02],\n",
              "        [-1.12072609e-01,  1.10687472e-01,  5.92335053e-02, ...,\n",
              "         -1.19625758e-02, -1.89994760e-02, -2.78872680e-02],\n",
              "        [-1.30055442e-01,  9.91532281e-02,  8.06216821e-02, ...,\n",
              "          3.37471976e-03, -1.96632240e-02, -2.07498819e-02]], dtype=float32)>,\n",
              " <tf.Tensor: shape=(16, 512), dtype=float32, numpy=\n",
              " array([[-2.37070352e-01,  2.40433455e-01,  1.07884333e-01, ...,\n",
              "          6.90389425e-05, -4.56301123e-02, -7.16047361e-02],\n",
              "        [-2.28377759e-01,  2.18347818e-01,  1.28862366e-01, ...,\n",
              "         -5.92619926e-03, -2.20972467e-02, -7.95305520e-02],\n",
              "        [-2.41665080e-01,  2.19393343e-01,  1.19138815e-01, ...,\n",
              "          2.11264845e-03, -1.83103625e-02, -5.80268763e-02],\n",
              "        ...,\n",
              "        [-2.08424658e-01,  2.01265752e-01,  1.27475396e-01, ...,\n",
              "         -7.83959776e-03, -1.91340130e-02, -7.52589181e-02],\n",
              "        [-2.28896961e-01,  2.22449213e-01,  1.16446331e-01, ...,\n",
              "         -2.75553092e-02, -3.25319842e-02, -5.14449254e-02],\n",
              "        [-2.66441882e-01,  1.98959678e-01,  1.58908427e-01, ...,\n",
              "          7.79303117e-03, -3.36775146e-02, -3.83391902e-02]], dtype=float32)>]"
            ]
          },
          "metadata": {
            "tags": []
          },
          "execution_count": 29
        }
      ]
    },
    {
      "cell_type": "code",
      "metadata": {
        "id": "FVmyWluCDYfr",
        "colab": {
          "base_uri": "https://localhost:8080/"
        },
        "outputId": "69cb7287-1e9d-4dbd-f4f7-dc9d572fced7"
      },
      "source": [
        "encoder_model.summary()"
      ],
      "execution_count": 30,
      "outputs": [
        {
          "output_type": "stream",
          "text": [
            "Model: \"model\"\n",
            "_________________________________________________________________\n",
            "Layer (type)                 Output Shape              Param #   \n",
            "=================================================================\n",
            "input_1 (InputLayer)         [(None, 13, 128)]         0         \n",
            "_________________________________________________________________\n",
            "add__end__token (Add_End_Tok (None, 14, 128)           128       \n",
            "_________________________________________________________________\n",
            "masking (Masking)            (None, 14, 128)           0         \n",
            "_________________________________________________________________\n",
            "lstm (LSTM)                  [(None, 14, 512), (None,  1312768   \n",
            "=================================================================\n",
            "Total params: 1,312,896\n",
            "Trainable params: 1,312,896\n",
            "Non-trainable params: 0\n",
            "_________________________________________________________________\n"
          ],
          "name": "stdout"
        }
      ]
    },
    {
      "cell_type": "markdown",
      "metadata": {
        "id": "fnlzZQQkDYfr"
      },
      "source": [
        "## 5. Build the decoder network\n"
      ]
    },
    {
      "cell_type": "markdown",
      "metadata": {
        "id": "u-lqyF7bDYfr"
      },
      "source": [
        "You should now build the RNN decoder model.\n",
        "* Using Model subclassing, build the decoder network according to the following spec:\n",
        "    * The initializer should create the following layers:\n",
        "        * An Embedding layer with vocabulary size set to the number of unique German tokens, embedding dimension 128, and set to mask zero values in the input.\n",
        "        * An LSTM layer with 512 units, that returns its hidden and cell states, and also returns sequences.\n",
        "        * A Dense layer with number of units equal to the number of unique German tokens, and no activation function.\n",
        "    * The call method should include the usual `inputs` argument, as well as the additional keyword arguments `hidden_state` and `cell_state`. The default value for these keyword arguments should be `None`.\n",
        "    * The call method should pass the inputs through the Embedding layer, and then through the LSTM layer. If the `hidden_state` and `cell_state` arguments are provided, these should be used for the initial state of the LSTM layer. _Hint: use the_ `initial_state` _keyword argument when calling the LSTM layer on its input._\n",
        "    * The call method should pass the LSTM output sequence through the Dense layer, and return the resulting Tensor, along with the hidden and cell states of the LSTM layer.\n",
        "* Using the Dataset `.take(1)` method, extract a batch of English and German data examples from the training Dataset. Test the decoder model by first calling the encoder model on the English data Tensor to get the hidden and cell states, and then call the decoder model on the German data Tensor and hidden and cell states, and print the shape of the resulting decoder Tensor outputs.\n",
        "* Print the model summary for the decoder network."
      ]
    },
    {
      "cell_type": "code",
      "metadata": {
        "id": "etm3wJHcDYfs"
      },
      "source": [
        "class Decoder_Model(Model):\n",
        "    \n",
        "    def __init__(self):\n",
        "        super(Decoder_Model, self).__init__()\n",
        "        self.embedding = Embedding(input_dim=german_vocab_size+1, \n",
        "                                   output_dim=128, \n",
        "                                   mask_zero=True)\n",
        "        self.lstm = LSTM(512, return_sequences=True, return_state=True)\n",
        "        self.dense = Dense(german_vocab_size+1)\n",
        "        \n",
        "    def call(self, inputs, hidden_state=None, cell_state=None):\n",
        "        x = self.embedding(inputs)\n",
        "        if hidden_state is not None and cell_state is not None:\n",
        "          x, hidden_state, cell_state = self.lstm(x, \n",
        "                                                  initial_state = [hidden, cell])\n",
        "        else:\n",
        "          x, hidden_state, cell_state = self.lstm(x)\n",
        "        x = self.dense(x)\n",
        "        return x, hidden_state, cell_state"
      ],
      "execution_count": 31,
      "outputs": []
    },
    {
      "cell_type": "code",
      "metadata": {
        "id": "qCxjcazYDYfs",
        "colab": {
          "base_uri": "https://localhost:8080/"
        },
        "outputId": "7b8845e2-38a2-4264-df9e-88e4519dc580"
      },
      "source": [
        "# Test the decoder model by first calling the encoder model on the English data Tensor \n",
        "# to get the hidden and cell states, and then call the decoder model on the German data Tensor \n",
        "# and hidden and cell states, and print the shape of the resulting decoder Tensor outputs.\n",
        "decoder_model = Decoder_Model()\n",
        "\n",
        "# Using the Dataset .take(1) method, extract a batch of English and German data examples from the training Dataset\n",
        "en_data = [elem[0] for elem in train_dataset.take(1)]\n",
        "de_data = [elem[1] for elem in train_dataset.take(1)]\n",
        "\n",
        "de_tensor = tf.squeeze(tf.convert_to_tensor(de_data))\n",
        "hidden, cell = encoder_model(en_data)\n",
        "output_tensor, _, _ = decoder_model(de_tensor, hidden, cell)\n",
        "tf.shape(output_tensor)"
      ],
      "execution_count": 32,
      "outputs": [
        {
          "output_type": "execute_result",
          "data": {
            "text/plain": [
              "<tf.Tensor: shape=(3,), dtype=int32, numpy=array([  16,   14, 5744], dtype=int32)>"
            ]
          },
          "metadata": {
            "tags": []
          },
          "execution_count": 32
        }
      ]
    },
    {
      "cell_type": "code",
      "metadata": {
        "id": "HOmLIwL4DYfs",
        "colab": {
          "base_uri": "https://localhost:8080/"
        },
        "outputId": "8886e339-fcaf-4375-df65-931cd7ef7b26"
      },
      "source": [
        "decoder_model.summary()"
      ],
      "execution_count": 33,
      "outputs": [
        {
          "output_type": "stream",
          "text": [
            "Model: \"decoder__model\"\n",
            "_________________________________________________________________\n",
            "Layer (type)                 Output Shape              Param #   \n",
            "=================================================================\n",
            "embedding (Embedding)        multiple                  735232    \n",
            "_________________________________________________________________\n",
            "lstm_1 (LSTM)                multiple                  1312768   \n",
            "_________________________________________________________________\n",
            "dense (Dense)                multiple                  2946672   \n",
            "=================================================================\n",
            "Total params: 4,994,672\n",
            "Trainable params: 4,994,672\n",
            "Non-trainable params: 0\n",
            "_________________________________________________________________\n"
          ],
          "name": "stdout"
        }
      ]
    },
    {
      "cell_type": "markdown",
      "metadata": {
        "id": "r1uQrVZwDYfs"
      },
      "source": [
        "## 6. Make a custom training loop\n",
        "You should now write a custom training loop to train your custom neural translation model.\n",
        "* Define a function that takes a Tensor batch of German data (as extracted from the training Dataset), and returns a tuple containing German inputs and outputs for the decoder model (refer to schematic diagram above).\n",
        "* Define a function that computes the forward and backward pass for your translation model. This function should take an English input, German input and German output as arguments, and should do the following:\n",
        "    * Pass the English input into the encoder, to get the hidden and cell states of the encoder LSTM.\n",
        "    * These hidden and cell states are then passed into the decoder, along with the German inputs, which returns a sequence of outputs (the hidden and cell state outputs of the decoder LSTM are unused in this function).\n",
        "    * The loss should then be computed between the decoder outputs and the German output function argument.\n",
        "    * The function returns the loss and gradients with respect to the encoder and decoder’s trainable variables.\n",
        "    * Decorate the function with @tf.function\n",
        "* Define and run a custom training loop for a number of epochs (for you to choose) that does the following:\n",
        "    * Iterates through the training dataset, and creates decoder inputs and outputs from the German sequences.\n",
        "    * Updates the parameters of the translation model using the gradients of the function above and an optimizer object.\n",
        "    * Every epoch, compute the validation loss on a number of batches from the validation and save the epoch training and validation losses.\n",
        "* Plot the learning curves for loss vs epoch for both training and validation sets.\n",
        "\n",
        "_Hint: This model is computationally demanding to train. The quality of the model or length of training is not a factor in the grading rubric. However, to obtain a better model we recommend using the GPU accelerator hardware on Colab._"
      ]
    },
    {
      "cell_type": "code",
      "metadata": {
        "id": "Bju9zobpDYfs"
      },
      "source": [
        "# Define a function that takes a Tensor batch of German data (as extracted from the training Dataset), and \n",
        "# returns a tuple containing German inputs and outputs for the decoder model\n",
        "\n",
        "def tensor2tuple(german_batch):\n",
        "  start_token = tokenizer.word_index.get('<start>')\n",
        "  end_token = tokenizer.word_index.get('<end>')\n",
        "  german_outputs = tf.where(german_batch == start_token, x=0, y=german_batch)[:, 1:]\n",
        "  german_inputs = tf.where(german_batch == end_token, x=0, y=german_batch)[:, :-1]\n",
        "\n",
        "  return (german_inputs, german_outputs)"
      ],
      "execution_count": 34,
      "outputs": []
    },
    {
      "cell_type": "code",
      "metadata": {
        "id": "4TZDBLO7DYft",
        "colab": {
          "base_uri": "https://localhost:8080/"
        },
        "outputId": "38aa7877-4a6d-4f14-95a8-a8831c5391a7"
      },
      "source": [
        "# checking train_dataset shapes\n",
        "for x, y in train_dataset.take(1):\n",
        "  print(x.shape)\n",
        "  print(y.shape)\n",
        "  res = tensor2tuple(y)\n",
        "  print(res[0].shape)\n",
        "  print(res[1].shape)"
      ],
      "execution_count": 35,
      "outputs": [
        {
          "output_type": "stream",
          "text": [
            "(16, 13, 128)\n",
            "(16, 14)\n",
            "(16, 13)\n",
            "(16, 13)\n"
          ],
          "name": "stdout"
        }
      ]
    },
    {
      "cell_type": "code",
      "metadata": {
        "id": "qXQX5DXbDYft"
      },
      "source": [
        "# Make optimizer, loss and variables (sum of encoder and decoder variables)\n",
        "optimizer_obj = Adam(learning_rate=0.001)\n",
        "loss_meth = SparseCategoricalCrossentropy(from_logits=True)\n",
        "trainable_variables = encoder_model.trainable_variables + decoder_model.trainable_variables"
      ],
      "execution_count": 36,
      "outputs": []
    },
    {
      "cell_type": "code",
      "metadata": {
        "id": "ykllPvLHDYft"
      },
      "source": [
        "@tf.function\n",
        "def forward_backward(english_input, german_input, german_output, train_vars):\n",
        "    with tf.GradientTape() as tape:\n",
        "        state_h, state_c = encoder_model(english_input)\n",
        "        d_output, _, _ = decoder_model(german_input,\n",
        "                                       hidden_state=state_h, \n",
        "                                       cell_state=state_c)\n",
        "        loss_value = loss_meth(german_output, d_output)\n",
        "        grads = tape.gradient(loss_value, train_vars)\n",
        "    return loss_value, grads"
      ],
      "execution_count": 37,
      "outputs": []
    },
    {
      "cell_type": "code",
      "metadata": {
        "id": "j5IaDsgYDYft"
      },
      "source": [
        "def custom_training_loop(train, test, epochs, grad_fun, optimizer_function, loss_function, train_vars):\n",
        "\n",
        "  train_results = []\n",
        "  test_results = []\n",
        "\n",
        "  for epoch in range(epochs):\n",
        "    train_epoch_loss = Mean()\n",
        "    test_epoch_loss = Mean()\n",
        "\n",
        "    for e, d in train:\n",
        "      german_input, german_output = tensor2tuple(d)\n",
        "      batch_loss, grads = grad_fun(e, german_input, german_output, train_vars)\n",
        "      optimizer_function.apply_gradients((grad, var) \n",
        "                                         for (grad, var) in zip(grads, train_vars) \n",
        "                                         if grad is not None)\n",
        "      train_epoch_loss(batch_loss)\n",
        "      \n",
        "    for e, d in test:\n",
        "      german_input, german_output = tensor2tuple(d)\n",
        "      hidden, cell = encoder_model(e)\n",
        "      seq_ou, _, _ = decoder_model(german_input, hidden, cell)\n",
        "      batch_loss = loss_function(german_output, seq_ou)\n",
        "      test_epoch_loss(batch_loss)\n",
        "    \n",
        "    train_results.append(train_epoch_loss.result())\n",
        "    test_results.append(test_epoch_loss.result())\n",
        "    print(\"Epoch: {:02d} - Loss: {:.3f} - Val_Loss: {:.3f}\".format(epoch+1, train_epoch_loss.result().numpy(), \n",
        "    test_epoch_loss.result().numpy()))\n",
        "\n",
        "  return train_results,test_results"
      ],
      "execution_count": 38,
      "outputs": []
    },
    {
      "cell_type": "code",
      "metadata": {
        "id": "kM6AShceDYft",
        "colab": {
          "base_uri": "https://localhost:8080/"
        },
        "outputId": "d0bb5e6f-5671-4347-a0fe-b822dff9ad8e"
      },
      "source": [
        "train_loss_results, val_loss_results = custom_training_loop(train=train_dataset, \n",
        "                                                            test=test_dataset, \n",
        "                                                            epochs=7,\n",
        "                                                            grad_fun=forward_backward, \n",
        "                                                            optimizer_function=optimizer_obj, \n",
        "                                                            loss_function=loss_meth,\n",
        "                                                            train_vars=trainable_variables)"
      ],
      "execution_count": 39,
      "outputs": [
        {
          "output_type": "stream",
          "text": [
            "Epoch: 01 - Loss: 6.154 - Val_Loss: 5.548\n",
            "Epoch: 02 - Loss: 5.027 - Val_Loss: 4.679\n",
            "Epoch: 03 - Loss: 4.113 - Val_Loss: 3.887\n",
            "Epoch: 04 - Loss: 3.253 - Val_Loss: 3.146\n",
            "Epoch: 05 - Loss: 2.462 - Val_Loss: 2.499\n",
            "Epoch: 06 - Loss: 1.810 - Val_Loss: 2.028\n",
            "Epoch: 07 - Loss: 1.368 - Val_Loss: 1.769\n"
          ],
          "name": "stdout"
        }
      ]
    },
    {
      "cell_type": "code",
      "metadata": {
        "id": "m5cx2COMDYfu",
        "colab": {
          "base_uri": "https://localhost:8080/",
          "height": 404
        },
        "outputId": "4b8a349b-9e29-4970-f03e-0ef6acd8ec70"
      },
      "source": [
        "plt.figure(figsize=(12, 6))\n",
        "plt.plot(train_loss_results)\n",
        "plt.plot(val_loss_results)\n",
        "plt.title('Loss vs. Epoch')\n",
        "plt.ylabel('Loss')\n",
        "plt.xlabel('Epoch')\n",
        "plt.legend(['Training', 'Validation'], loc='upper right')\n",
        "plt.grid()\n",
        "plt.show();"
      ],
      "execution_count": 40,
      "outputs": [
        {
          "output_type": "display_data",
          "data": {
            "image/png": "[encoded data removed]",
            "text/plain": [
              "<Figure size 864x432 with 1 Axes>"
            ]
          },
          "metadata": {
            "tags": [],
            "needs_background": "light"
          }
        }
      ]
    },
    {
      "cell_type": "markdown",
      "metadata": {
        "id": "t-EwCA6yDYfu"
      },
      "source": [
        "## 7. Use the model to translate\n",
        "Now it's time to put your model into practice! You should run your translation for five randomly sampled English sentences from the dataset. For each sentence, the process is as follows:\n",
        "* Preprocess and embed the English sentence according to the model requirements.\n",
        "* Pass the embedded sentence through the encoder to get the encoder hidden and cell states.\n",
        "* Starting with the special  `\"<start>\"` token, use this token and the final encoder hidden and cell states to get the one-step prediction from the decoder, as well as the decoder’s updated hidden and cell states.\n",
        "* Create a loop to get the next step prediction and updated hidden and cell states from the decoder, using the most recent hidden and cell states. Terminate the loop when the `\"<end>\"` token is emitted, or when the sentence has reached a maximum length.\n",
        "* Decode the output token sequence into German text and print the English text and the model's German translation."
      ]
    },
    {
      "cell_type": "code",
      "metadata": {
        "id": "tgqWY4mSDYfu"
      },
      "source": [
        "random_sample = np.random.choice(len(german_sentences), 5)\n",
        "sample_eng = []\n",
        "sample_deu = []\n",
        "sentence_maxlen = train_dataset.element_spec[1].shape[1]\n",
        "for i in random_sample:\n",
        "  sample_eng.append(english_sentences[i])\n",
        "  sample_deu.append(' '.join(german_sentences[i].split(' ')[1:-1]))"
      ],
      "execution_count": 45,
      "outputs": []
    },
    {
      "cell_type": "code",
      "metadata": {
        "id": "W6hql0lVDYfu"
      },
      "source": [
        "sample_eng_tensor = list(map(lambda x: tf.strings.split(x), sample_eng))\n",
        "sample_eng_tensor = list(map(lambda x: embedding_layer(x), sample_eng_tensor))\n",
        "sample_eng_tensor = list(map(lambda x: tf.pad(x, paddings=[[13-x.shape[0], 0],[0, 0]]),sample_eng_tensor))\n",
        "sample_eng_tensor = list(map(lambda x: tf.expand_dims(x, axis=0), sample_eng_tensor))"
      ],
      "execution_count": 46,
      "outputs": []
    },
    {
      "cell_type": "code",
      "metadata": {
        "id": "AYK8VSQEDYfu"
      },
      "source": [
        "print('Sample Predictions')\n",
        "\n",
        "for n, eng_sentence in enumerate(sample_eng_tensor):\n",
        "  print('------------------')\n",
        "  translation = []\n",
        "  hidden, cell = encoder_model(eng_sentence)\n",
        "  input_token = tf.Variable([[tokenizer.word_index['<start>']]])\n",
        "  for m in range(13):\n",
        "    seq_output, hidden, cell = decoder_model(input_token, hidden, cell)\n",
        "    prediction_index = int(np.argmax(seq_output.numpy(), axis=2))\n",
        "    word = tokenizer.index_word[prediction_index]\n",
        "    if word == '<end>':\n",
        "      break\n",
        "    else:\n",
        "      input_token = tf.Variable([[prediction_index]])\n",
        "      translation.append(word)\n",
        "\n",
        "  translation = ' '.join(translation)\n",
        "  print('Sentence nr.', n+1)\n",
        "  print('English sentence:', sample_eng[n])\n",
        "  print('German sentence:', sample_deu[n])\n",
        "  print('Translation:',translation)"
      ],
      "execution_count": 68,
      "outputs": []
    }
  ]
}